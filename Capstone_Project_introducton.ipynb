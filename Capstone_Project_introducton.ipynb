{
    "cells": [
        {
            "cell_type": "markdown",
            "metadata": {
                "collapsed": true
            },
            "source": "# INTRODUCTON/BUSINESS PROBLEM"
        },
        {
            "cell_type": "markdown",
            "metadata": {},
            "source": "In this project my main focus is on New York City and as we all know that it is the most populous city in the United States. With an estimated 2019 population of 8,336,817 distributed over about 302.6 square miles (784 km2), New York is also the most densely populated major city in the United States.\nNew York City is a global hub of business and commerce, as a center for banking and finance, retailing, world trade, transportation, tourism, real estate, new media, traditional media, advertising, legal services, accountancy, insurance, theater, fashion, thus it attracts many people from all over the world and thus it forms the major entry point to the immigrants and therefore New York City's food culture includes an array of international cuisines influenced by the city's immigrant history.\n\nMy project will concentrate on following problems:\n\n1. What is best place in New York City for Indian Cuisine?\n2. Which is the best place to stay if you prefer Indian Cuisine?\n3. Visualizing every parts of New York City that serves Indian foods\n4. Which are the areas that lack Indian Restaurants?\n\n### Target Audience\n\nThis project report would be beneficial for every person who wishes to try best Indian Cuisine in New York \n\n\n    .\n"
        }
    ],
    "metadata": {
        "kernelspec": {
            "display_name": "Python 3.6",
            "language": "python",
            "name": "python3"
        },
        "language_info": {
            "codemirror_mode": {
                "name": "ipython",
                "version": 3
            },
            "file_extension": ".py",
            "mimetype": "text/x-python",
            "name": "python",
            "nbconvert_exporter": "python",
            "pygments_lexer": "ipython3",
            "version": "3.6.9"
        }
    },
    "nbformat": 4,
    "nbformat_minor": 1
}