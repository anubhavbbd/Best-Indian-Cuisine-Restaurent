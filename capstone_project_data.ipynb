{
    "cells": [
        {
            "cell_type": "markdown",
            "metadata": {},
            "source": "# DATA SECTION\n\nBy keeping the BUSINESS PROBLEM in mind which is mentioned in INTRODUCTION part,below are the required data and  in this project there is a need following data:\n\n1. New York City data that contains list of Boroughs, Neighbourhoods along with their location i.e. latitude and longitude.\n        Data set is available here : \"https://cocl.us/new_york_dataset\" which is in JSON format.\n        \n2. Geospatial data are defined in the ISO/TC 211 series of standards as data and information having an implicit or explicit association with a location relative    to Earth.\n        Informaton regarding geospatial data is available at : \"https://data.cityofnewyork.us/City-Government/Borough-Boundaries/tqmj-j8zm\"\n        \n3. Indian restaurants in each part/area of New York City.\n        For this purpose I will be using Foursquare API "
        }
    ],
    "metadata": {
        "kernelspec": {
            "display_name": "Python 3.6",
            "language": "python",
            "name": "python3"
        },
        "language_info": {
            "codemirror_mode": {
                "name": "ipython",
                "version": 3
            },
            "file_extension": ".py",
            "mimetype": "text/x-python",
            "name": "python",
            "nbconvert_exporter": "python",
            "pygments_lexer": "ipython3",
            "version": "3.6.9"
        }
    },
    "nbformat": 4,
    "nbformat_minor": 1
}